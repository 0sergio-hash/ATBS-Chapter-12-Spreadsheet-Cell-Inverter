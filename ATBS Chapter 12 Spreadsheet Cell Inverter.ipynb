{
 "cells": [
  {
   "cell_type": "markdown",
   "metadata": {},
   "source": [
    "# [Instructions for this project](https://automatetheboringstuff.com/2e/chapter12/)"
   ]
  },
  {
   "cell_type": "code",
   "execution_count": null,
   "metadata": {},
   "outputs": [],
   "source": [
    "#! python3\n",
    "# Project: Spreadsheet Cell Inverter\n",
    "\n",
    "def invertSheet(speadsheet):\n",
    "    \n",
    "    import openpyxl, sys\n",
    "    from openpyxl.styles import Font\n",
    "    from openpyxl.utils import get_column_letter , column_index_from_string\n",
    "    \n",
    "    print(f'Inverting cells for {speadsheet}...')\n",
    "    \n",
    "    wbOrig = openpyxl.load_workbook(speadsheet)\n",
    "    origSheet = wbOrig.active\n",
    "    origDict = {}\n",
    "    botRight = get_column_letter(origSheet.max_column)+str(origSheet.max_row)\n",
    "    origCellObjects = origSheet['A1':botRight]\n",
    "    \n",
    "    for rowEnum, rowObj in enumerate(origCellObjects):\n",
    "        for cellEnum, cellObj in enumerate(rowObj):\n",
    "            rowNum = rowEnum + 1\n",
    "            colNum = cellEnum + 1\n",
    "\n",
    "            newCoords = get_column_letter(rowNum) + str(colNum)\n",
    "            \n",
    "            origDict.setdefault(newCoords,cellObj.value)\n",
    "\n",
    "    # Create an excel document\n",
    "    wbNew = openpyxl.Workbook()\n",
    "    newSheet = wbNew.active\n",
    "\n",
    "    # Iterate through dictionary, pasting in values\n",
    "\n",
    "    for key, val in origDict.items():\n",
    "        newSheet[key] = val\n",
    "\n",
    "    # Save workbook\n",
    "    wbName = 'CELLS INVERTED ' + fileName\n",
    "    wbNew.save(wbName)\n",
    "\n",
    "    print(wbName + ' saved to your home directory!')"
   ]
  }
 ],
 "metadata": {
  "kernelspec": {
   "display_name": "ibm_project",
   "language": "python",
   "name": "ibm_project"
  },
  "language_info": {
   "codemirror_mode": {
    "name": "ipython",
    "version": 3
   },
   "file_extension": ".py",
   "mimetype": "text/x-python",
   "name": "python",
   "nbconvert_exporter": "python",
   "pygments_lexer": "ipython3",
   "version": "3.7.9"
  }
 },
 "nbformat": 4,
 "nbformat_minor": 4
}
